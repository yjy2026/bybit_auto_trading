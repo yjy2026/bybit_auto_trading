{
 "cells": [
  {
   "cell_type": "markdown",
   "metadata": {},
   "source": [
    "# Bybit 인증"
   ]
  },
  {
   "cell_type": "code",
   "execution_count": 3,
   "metadata": {},
   "outputs": [],
   "source": [
    "# your api_key & api_secret\n",
    "from bybit import api_key, api_secret\n",
    "from pybit.usdt_perpetual import HTTP\n",
    "\n",
    "session = HTTP(\n",
    "    endpoint='https://api.bybit.com',\n",
    "    api_key=api_key,\n",
    "    api_secret=api_secret\n",
    ")\n",
    "import time\n",
    "import pandas as pd\n",
    "import torch\n",
    "from pprint import pprint"
   ]
  },
  {
   "cell_type": "markdown",
   "metadata": {},
   "source": [
    "# 취급하는 코인 정보 확인하기"
   ]
  },
  {
   "cell_type": "code",
   "execution_count": null,
   "metadata": {},
   "outputs": [],
   "source": [
    "query_symbol = session.query_symbol()\n",
    "pprint(query_symbol)"
   ]
  },
  {
   "cell_type": "markdown",
   "metadata": {},
   "source": [
    "# 심볼의 최신정보 확인"
   ]
  },
  {
   "cell_type": "code",
   "execution_count": null,
   "metadata": {},
   "outputs": [],
   "source": [
    "pprint(session.latest_information_for_symbol(symbol=\"BTCUSDT\"))"
   ]
  },
  {
   "cell_type": "markdown",
   "metadata": {},
   "source": [
    "# 내 잔고"
   ]
  },
  {
   "cell_type": "code",
   "execution_count": null,
   "metadata": {},
   "outputs": [],
   "source": [
    "rst = session.get_wallet_balance(coin=\"USDT\")\n",
    "pprint(rst)"
   ]
  },
  {
   "cell_type": "markdown",
   "metadata": {},
   "source": [
    "# 현재까지의 PnL 확인하기"
   ]
  },
  {
   "cell_type": "code",
   "execution_count": null,
   "metadata": {},
   "outputs": [],
   "source": [
    "ncpal = session.closed_profit_and_loss(\n",
    "    symbol=\"BTCUSDT\",\n",
    ")\n",
    "pprint(ncpal)"
   ]
  },
  {
   "cell_type": "markdown",
   "metadata": {},
   "source": [
    "# 주문하기"
   ]
  },
  {
   "cell_type": "markdown",
   "metadata": {},
   "source": [
    "### Open Long"
   ]
  },
  {
   "cell_type": "code",
   "execution_count": null,
   "metadata": {},
   "outputs": [],
   "source": [
    "resp = session.place_active_order(\n",
    "    symbol=\"BTCUSDT\",\n",
    "    side=\"Buy\", # 'Buy' or 'Sell'\n",
    "    order_type=\"Market\", # 'Limit' or 'Market'\n",
    "    qty=0.001,\n",
    "    time_in_force=\"GoodTillCancel\",  # 'GoodTillCancel' or 'ImmediateOrCancel' or 'FillOrKill' or 'PostOnly'\n",
    "    reduce_only=False,\n",
    "    close_on_trigger=False,\n",
    "    take_profit=20000,\n",
    ")\n",
    "\n",
    "print(resp)"
   ]
  },
  {
   "cell_type": "markdown",
   "metadata": {},
   "source": [
    "### Close Long"
   ]
  },
  {
   "cell_type": "code",
   "execution_count": null,
   "metadata": {},
   "outputs": [],
   "source": [
    "resp = session.place_active_order(\n",
    "    symbol=\"BTCUSDT\",\n",
    "    side=\"Sell\", # 'Buy' or 'Sell'\n",
    "    order_type=\"Market\", # 'Limit' or 'Market'\n",
    "    qty=0.001,\n",
    "    time_in_force=\"GoodTillCancel\",  # 'GoodTillCancel' or 'ImmediateOrCancel' or 'FillOrKill' or 'PostOnly'\n",
    "    reduce_only=True,\n",
    "    close_on_trigger=True,\n",
    ")\n",
    "\n",
    "print(resp)"
   ]
  },
  {
   "cell_type": "markdown",
   "metadata": {},
   "source": [
    "### Open Short"
   ]
  },
  {
   "cell_type": "code",
   "execution_count": null,
   "metadata": {},
   "outputs": [],
   "source": [
    "resp = session.place_active_order(\n",
    "    symbol=\"BTCUSDT\",\n",
    "    side=\"Sell\", # 'Buy' or 'Sell'\n",
    "    order_type=\"Market\", # 'Limit' or 'Market'\n",
    "    qty=100,\n",
    "    time_in_force=\"GoodTillCancel\",  # 'GoodTillCancel' or 'ImmediateOrCancel' or 'FillOrKill' or 'PostOnly'\n",
    "    reduce_only=False,\n",
    "    close_on_trigger=False,\n",
    "    take_profit=10000,\n",
    "    stop_loss=30000,\n",
    ")\n",
    "\n",
    "print(resp)"
   ]
  },
  {
   "cell_type": "markdown",
   "metadata": {},
   "source": [
    "### Close Short"
   ]
  },
  {
   "cell_type": "code",
   "execution_count": null,
   "metadata": {},
   "outputs": [],
   "source": [
    "resp = session.place_active_order(\n",
    "    symbol=\"BTCUSDT\",\n",
    "    side=\"Buy\", # 'Buy' or 'Sell'\n",
    "    order_type=\"Market\", # 'Limit' or 'Market'\n",
    "    qty=0.001,\n",
    "    time_in_force=\"GoodTillCancel\",  # 'GoodTillCancel' or 'ImmediateOrCancel' or 'FillOrKill' or 'PostOnly'\n",
    "    reduce_only=True,\n",
    "    close_on_trigger=True,\n",
    ")\n",
    "\n",
    "print(resp)"
   ]
  },
  {
   "cell_type": "markdown",
   "metadata": {},
   "source": [
    "# 내 포지션 확인"
   ]
  },
  {
   "cell_type": "code",
   "execution_count": null,
   "metadata": {},
   "outputs": [],
   "source": [
    "my_position = session.my_position(\n",
    "    symbol=\"BTCUSDT\"\n",
    ")\n",
    "pprint(my_position)"
   ]
  },
  {
   "cell_type": "markdown",
   "metadata": {},
   "source": [
    "# 포지션 모드 변경"
   ]
  },
  {
   "cell_type": "code",
   "execution_count": null,
   "metadata": {},
   "outputs": [],
   "source": [
    "position_mode_switch = session.position_mode_switch(\n",
    "    symbol=\"BTCUSDT\",\n",
    "    mode=\"BothSide\" # 'BothSide' or 'MergedSingle'\n",
    ")\n",
    "\n",
    "pprint(position_mode_switch)"
   ]
  },
  {
   "cell_type": "markdown",
   "metadata": {},
   "source": [
    "# 레버리지 세팅"
   ]
  },
  {
   "cell_type": "code",
   "execution_count": 18,
   "metadata": {},
   "outputs": [],
   "source": [
    "set_leverage = session.set_leverage(\n",
    "    symbol=\"BTCUSDT\",\n",
    "    buy_leverage=1,\n",
    "    sell_leverage=1\n",
    ")"
   ]
  },
  {
   "cell_type": "markdown",
   "metadata": {},
   "source": [
    "# 리스크 한계 구하기"
   ]
  },
  {
   "cell_type": "code",
   "execution_count": null,
   "metadata": {},
   "outputs": [],
   "source": [
    "get_risk_limit = session.get_risk_limit(\n",
    "    symbol=\"BTCUSDT\"\n",
    ")\n",
    "pprint(get_risk_limit)"
   ]
  },
  {
   "cell_type": "markdown",
   "metadata": {},
   "source": [
    "# 1분봉 모으기"
   ]
  },
  {
   "cell_type": "code",
   "execution_count": null,
   "metadata": {},
   "outputs": [],
   "source": [
    "result = {}\n",
    "while True:\n",
    "    nowtime = int(time.time())\n",
    "    i = 0\n",
    "    while True:\n",
    "        i += 1\n",
    "        if i % 100 == 0:\n",
    "            print((nowtime//60 - 200*i + 1) * 60)\n",
    "        resp = session.query_kline(\n",
    "            symbol=\"BTCUSDT\",\n",
    "            interval=\"1\",\n",
    "            limit=200,\n",
    "            from_time=(nowtime//60 - 200*i + 1) * 60\n",
    "        )\n",
    "        df = resp['result']\n",
    "        df = pd.DataFrame(df)\n",
    "        dfl = df[['open', 'high', 'low', 'close', 'volume']].to_numpy().tolist()\n",
    "        df = {k: v for k,v in zip(df['id'], dfl)}\n",
    "        before_len = len(result)\n",
    "        result.update(df)\n",
    "        if before_len == len(result):\n",
    "            break\n",
    "    if int(time.time()) - nowtime < 60:\n",
    "        break\n",
    "\n",
    "rst = sorted(result.items(), key=lambda x:x[0])\n",
    "rst = [i[1] for i in rst]\n",
    "print(len(rst))\n",
    "\n",
    "torch.save(result, \"bybit_data.pt\")"
   ]
  }
 ],
 "metadata": {
  "kernelspec": {
   "display_name": "Python 3.9.4 64-bit",
   "language": "python",
   "name": "python3"
  },
  "language_info": {
   "codemirror_mode": {
    "name": "ipython",
    "version": 3
   },
   "file_extension": ".py",
   "mimetype": "text/x-python",
   "name": "python",
   "nbconvert_exporter": "python",
   "pygments_lexer": "ipython3",
   "version": "3.9.4"
  },
  "orig_nbformat": 4,
  "vscode": {
   "interpreter": {
    "hash": "3c31e886293a1036aea35eb65a2a748462bd38b3ceab7c9f8095f626296b17f5"
   }
  }
 },
 "nbformat": 4,
 "nbformat_minor": 2
}
